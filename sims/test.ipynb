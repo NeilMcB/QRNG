{
 "cells": [
  {
   "cell_type": "code",
   "execution_count": 1,
   "metadata": {},
   "outputs": [],
   "source": [
    "import numpy as np\n",
    "import pandas as pd\n",
    "import matplotlib.pyplot as plt"
   ]
  },
  {
   "cell_type": "code",
   "execution_count": 63,
   "metadata": {},
   "outputs": [],
   "source": [
    "a_data = np.load(\"A_RESULTS.npy\")\n",
    "b_data = np.load(\"B_RESULTS.npy\")"
   ]
  },
  {
   "cell_type": "code",
   "execution_count": 64,
   "metadata": {},
   "outputs": [],
   "source": [
    "df_data = pd.DataFrame()"
   ]
  },
  {
   "cell_type": "code",
   "execution_count": 65,
   "metadata": {},
   "outputs": [],
   "source": [
    "df_data['x'] = a_data[0,:].astype(int)\n",
    "df_data['y'] = b_data[0,:].astype(int)\n",
    "\n",
    "df_data['a'] = a_data[1,:].astype(int)\n",
    "df_data['b'] = b_data[1,:].astype(int)"
   ]
  },
  {
   "cell_type": "code",
   "execution_count": 66,
   "metadata": {},
   "outputs": [],
   "source": [
    "def concat_bases(row):\n",
    "    return str(row['x'])+str(row['y'])"
   ]
  },
  {
   "cell_type": "code",
   "execution_count": 67,
   "metadata": {},
   "outputs": [],
   "source": [
    "df_data['xy'] = df_data.apply(concat_bases, axis=1)"
   ]
  },
  {
   "cell_type": "code",
   "execution_count": 68,
   "metadata": {},
   "outputs": [],
   "source": [
    "count_dict = {}\n",
    "for xy in ['00', '01', '10', '11']:\n",
    "    df_data_xy = df_data[df_data['xy'] == xy]\n",
    "    eq_count = len(df_data_xy[df_data_xy['a'] == df_data_xy['b']])\n",
    "    neq_count = len(df_data_xy[df_data_xy['a'] != df_data_xy['b']])\n",
    "    count_dict[xy] = (eq_count, neq_count)"
   ]
  },
  {
   "cell_type": "code",
   "execution_count": 69,
   "metadata": {},
   "outputs": [
    {
     "data": {
      "text/plain": [
       "{'00': (113, 20), '01': (110, 14), '10': (107, 19), '11': (16, 113)}"
      ]
     },
     "execution_count": 69,
     "metadata": {},
     "output_type": "execute_result"
    }
   ],
   "source": [
    "count_dict"
   ]
  },
  {
   "cell_type": "code",
   "execution_count": 73,
   "metadata": {},
   "outputs": [],
   "source": [
    "Is = []\n",
    "for xy in ['00', '01', '10', '11']:\n",
    "    coef = (-1)**(int(xy[0])*int(xy[1]))\n",
    "    Is.append(coef * (count_dict[xy][0] - count_dict[xy][1]) / (512*0.25))"
   ]
  },
  {
   "cell_type": "code",
   "execution_count": 74,
   "metadata": {},
   "outputs": [
    {
     "data": {
      "text/plain": [
       "[0.7265625, 0.75, 0.6875, 0.7578125]"
      ]
     },
     "execution_count": 74,
     "metadata": {},
     "output_type": "execute_result"
    }
   ],
   "source": [
    "Is"
   ]
  },
  {
   "cell_type": "code",
   "execution_count": 78,
   "metadata": {},
   "outputs": [
    {
     "data": {
      "text/plain": [
       "255.0"
      ]
     },
     "execution_count": 78,
     "metadata": {},
     "output_type": "execute_result"
    }
   ],
   "source": [
    "np.sum(a_data[0], axis=0)"
   ]
  },
  {
   "cell_type": "code",
   "execution_count": 79,
   "metadata": {},
   "outputs": [
    {
     "data": {
      "text/plain": [
       "253.0"
      ]
     },
     "execution_count": 79,
     "metadata": {},
     "output_type": "execute_result"
    }
   ],
   "source": [
    "np.sum(b_data[0], axis=0)"
   ]
  },
  {
   "cell_type": "code",
   "execution_count": 27,
   "metadata": {},
   "outputs": [],
   "source": [
    "a = np.loadtxt('anu_seed.txt', dtype='str')"
   ]
  },
  {
   "cell_type": "code",
   "execution_count": 21,
   "metadata": {},
   "outputs": [
    {
     "name": "stdout",
     "output_type": "stream",
     "text": [
      "0111011011110100110010101111101111111111101101111100101011001010110101101100101110100111001001100000100100010010001000010011111000111100100010100111000100110000011100010111011011010000101100100110100111110100100101011100000011111110101100111000001000010000001000100000101011111011010001011110001011110111010011110110001111100101101100010001001111110111110101100111100100101100101011011111111110110010011001000101111011100110110101101100000000111010011001000101001010000101110001010111000001001000101001001011101010110000001101100100011101011010111000010111101001010011111101111110100001111000001011000001100010101001000010110001111011001101010000101001001111000101001011011111110111100000011101101010010100010000100011011011111001110011010100011010100000101110001110010110101011011101100100000000110101101000111011000001000001010010001110101101110001001110001100000000100001001001101111001000100011110110010100100001010110110001101111000000001111010100010001101010110011011000111100001011111100110101101001000110010100010111"
     ]
    }
   ],
   "source": [
    "!cat anu_seed.txt"
   ]
  },
  {
   "cell_type": "code",
   "execution_count": 32,
   "metadata": {},
   "outputs": [
    {
     "data": {
      "text/plain": [
       "array('0111011011110100110010101111101111111111101101111100101011001010110101101100101110100111001001100000100100010010001000010011111000111100100010100111000100110000011100010111011011010000101100100110100111110100100101011100000011111110101100111000001000010000001000100000101011111011010001011110001011110111010011110110001111100101101100010001001111110111110101100111100100101100101011011111111110110010011001000101111011100110110101101100000000111010011001000101001010000101110001010111000001001000101001001011101010110000001101100100011101011010111000010111101001010011111101111110100001111000001011000001100010101001000010110001111011001101010000101001001111000101001011011111110111100000011101101010010100010000100011011011111001110011010100011010100000101110001110010110101011011101100100000000110101101000111011000001000001010010001110101101110001001110001100000000100001001001101111001000100011110110010100100001010110110001101111000000001111010100010001101010110011011000111100001011111100110101101001000110010100010111',\n",
       "      dtype='<U1024')"
      ]
     },
     "execution_count": 32,
     "metadata": {},
     "output_type": "execute_result"
    }
   ],
   "source": [
    "a"
   ]
  },
  {
   "cell_type": "code",
   "execution_count": 41,
   "metadata": {},
   "outputs": [],
   "source": [
    "with open('anu_seed.txt', 'r') as f:\n",
    "    seed = np.array(list(f.read())).astype(int)"
   ]
  },
  {
   "cell_type": "code",
   "execution_count": null,
   "metadata": {},
   "outputs": [],
   "source": []
  }
 ],
 "metadata": {
  "kernelspec": {
   "display_name": "Python 3",
   "language": "python",
   "name": "python3"
  },
  "language_info": {
   "codemirror_mode": {
    "name": "ipython",
    "version": 3
   },
   "file_extension": ".py",
   "mimetype": "text/x-python",
   "name": "python",
   "nbconvert_exporter": "python",
   "pygments_lexer": "ipython3",
   "version": "3.6.8"
  }
 },
 "nbformat": 4,
 "nbformat_minor": 2
}
